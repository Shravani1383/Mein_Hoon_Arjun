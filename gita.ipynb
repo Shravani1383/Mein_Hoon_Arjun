{
 "cells": [
  {
   "cell_type": "code",
   "execution_count": 1,
   "metadata": {},
   "outputs": [],
   "source": [
    "import numpy as np\n",
    "import pandas as pd"
   ]
  },
  {
   "cell_type": "code",
   "execution_count": 2,
   "metadata": {},
   "outputs": [],
   "source": [
    "df=pd.read_csv(\"shlokas1.csv\")"
   ]
  },
  {
   "cell_type": "code",
   "execution_count": 3,
   "metadata": {},
   "outputs": [
    {
     "data": {
      "text/html": [
       "<div>\n",
       "<style scoped>\n",
       "    .dataframe tbody tr th:only-of-type {\n",
       "        vertical-align: middle;\n",
       "    }\n",
       "\n",
       "    .dataframe tbody tr th {\n",
       "        vertical-align: top;\n",
       "    }\n",
       "\n",
       "    .dataframe thead th {\n",
       "        text-align: right;\n",
       "    }\n",
       "</style>\n",
       "<table border=\"1\" class=\"dataframe\">\n",
       "  <thead>\n",
       "    <tr style=\"text-align: right;\">\n",
       "      <th></th>\n",
       "      <th>Shlok</th>\n",
       "    </tr>\n",
       "  </thead>\n",
       "  <tbody>\n",
       "    <tr>\n",
       "      <th>0</th>\n",
       "      <td>जातस्य हि ध्रुवो मृत्युर्ध्रुवं जन्म मृतस्य च।...</td>\n",
       "    </tr>\n",
       "    <tr>\n",
       "      <th>1</th>\n",
       "      <td>प्रारब्धं भुज्यमानो हि गीताभ्यासरतः सदा।  स मु...</td>\n",
       "    </tr>\n",
       "    <tr>\n",
       "      <th>2</th>\n",
       "      <td>देहिनोऽस्मिन्यथा देहे कौमारं यौवनं\\n          ...</td>\n",
       "    </tr>\n",
       "    <tr>\n",
       "      <th>3</th>\n",
       "      <td>य एनं वेत्ति हन्तारं यश्चैनं मन्यते हतम्।उभौ त...</td>\n",
       "    </tr>\n",
       "    <tr>\n",
       "      <th>4</th>\n",
       "      <td>न जायते म्रियते वा कदाचिन्नायं भूत्वा भविता वा...</td>\n",
       "    </tr>\n",
       "  </tbody>\n",
       "</table>\n",
       "</div>"
      ],
      "text/plain": [
       "                                               Shlok\n",
       "0  जातस्य हि ध्रुवो मृत्युर्ध्रुवं जन्म मृतस्य च।...\n",
       "1  प्रारब्धं भुज्यमानो हि गीताभ्यासरतः सदा।  स मु...\n",
       "2  देहिनोऽस्मिन्यथा देहे कौमारं यौवनं\\n          ...\n",
       "3  य एनं वेत्ति हन्तारं यश्चैनं मन्यते हतम्।उभौ त...\n",
       "4  न जायते म्रियते वा कदाचिन्नायं भूत्वा भविता वा..."
      ]
     },
     "execution_count": 3,
     "metadata": {},
     "output_type": "execute_result"
    }
   ],
   "source": [
    "df.head()"
   ]
  },
  {
   "cell_type": "code",
   "execution_count": 4,
   "metadata": {},
   "outputs": [],
   "source": [
    "import re\n",
    "def split_row(row):\n",
    "    shlok = row.split('Transliteration:')[0].strip()\n",
    "    transliteration_and_rest = row.split(\"Hindi Translation:\")\n",
    "    if len(transliteration_and_rest) > 1:\n",
    "        transliteration = transliteration_and_rest[0].split('Transliteration:')[1].strip()\n",
    "        hindi_and_english = transliteration_and_rest[1].split(\"English Translation:\")\n",
    "        hindi_translation = hindi_and_english[0].strip()\n",
    "        if len(hindi_and_english) > 1:\n",
    "            english_translation = hindi_and_english[1].strip()\n",
    "        else:\n",
    "            english_translation = None\n",
    "    else:\n",
    "        transliteration = None\n",
    "        hindi_translation = None\n",
    "        english_translation = None\n",
    "    return pd.Series([shlok, transliteration, hindi_translation, english_translation])\n",
    "\n"
   ]
  },
  {
   "cell_type": "code",
   "execution_count": 5,
   "metadata": {},
   "outputs": [],
   "source": [
    "df[['Shlok', 'Transliteration', 'Hindi Translation', 'English Translation']] = df['Shlok'].apply(split_row)\n"
   ]
  },
  {
   "cell_type": "code",
   "execution_count": 6,
   "metadata": {},
   "outputs": [
    {
     "data": {
      "text/html": [
       "<div>\n",
       "<style scoped>\n",
       "    .dataframe tbody tr th:only-of-type {\n",
       "        vertical-align: middle;\n",
       "    }\n",
       "\n",
       "    .dataframe tbody tr th {\n",
       "        vertical-align: top;\n",
       "    }\n",
       "\n",
       "    .dataframe thead th {\n",
       "        text-align: right;\n",
       "    }\n",
       "</style>\n",
       "<table border=\"1\" class=\"dataframe\">\n",
       "  <thead>\n",
       "    <tr style=\"text-align: right;\">\n",
       "      <th></th>\n",
       "      <th>Shlok</th>\n",
       "      <th>Transliteration</th>\n",
       "      <th>Hindi Translation</th>\n",
       "      <th>English Translation</th>\n",
       "    </tr>\n",
       "  </thead>\n",
       "  <tbody>\n",
       "    <tr>\n",
       "      <th>0</th>\n",
       "      <td>जातस्य हि ध्रुवो मृत्युर्ध्रुवं जन्म मृतस्य च।...</td>\n",
       "      <td>jātasya hi dhruvo mṛtyurdhruvaṃ janma\\n       ...</td>\n",
       "      <td>जन्मने वाले की मृत्यु निश्चित है और मरने\\n    ...</td>\n",
       "      <td>Death is certain for the born, and\\n        re...</td>\n",
       "    </tr>\n",
       "    <tr>\n",
       "      <th>1</th>\n",
       "      <td>प्रारब्धं भुज्यमानो हि गीताभ्यासरतः सदा।  स मु...</td>\n",
       "      <td>śrīviṣṇuruvāca\\n        prārabdhaṃ bhujyamāno ...</td>\n",
       "      <td>प्रारब्ध-कर्म को भोगता हुआ जो मनुष्य गीता\\n   ...</td>\n",
       "      <td>One who indulges in ongoing\\n        action an...</td>\n",
       "    </tr>\n",
       "    <tr>\n",
       "      <th>2</th>\n",
       "      <td>देहिनोऽस्मिन्यथा देहे कौमारं यौवनं\\n          ...</td>\n",
       "      <td>dehino’sminyathā\\n        dehe kaumāraṃ yauvan...</td>\n",
       "      <td>जैसे इस देह में देही जीवात्मा की कुमार,\\n     ...</td>\n",
       "      <td>Just as the\\n        boyhood, youth and old ag...</td>\n",
       "    </tr>\n",
       "    <tr>\n",
       "      <th>3</th>\n",
       "      <td>य एनं वेत्ति हन्तारं यश्चैनं मन्यते हतम्।उभौ त...</td>\n",
       "      <td>ya enaṃ vetti\\n        hantāraṃ yaścainaṃ many...</td>\n",
       "      <td>जो आत्मा को\\n        मारने वाला समझता है और जो...</td>\n",
       "      <td>He who\\n        thinks that the soul kills, an...</td>\n",
       "    </tr>\n",
       "    <tr>\n",
       "      <th>4</th>\n",
       "      <td>न जायते म्रियते वा कदाचिन्नायं भूत्वा भविता वा...</td>\n",
       "      <td>None</td>\n",
       "      <td>None</td>\n",
       "      <td>None</td>\n",
       "    </tr>\n",
       "  </tbody>\n",
       "</table>\n",
       "</div>"
      ],
      "text/plain": [
       "                                               Shlok  \\\n",
       "0  जातस्य हि ध्रुवो मृत्युर्ध्रुवं जन्म मृतस्य च।...   \n",
       "1  प्रारब्धं भुज्यमानो हि गीताभ्यासरतः सदा।  स मु...   \n",
       "2  देहिनोऽस्मिन्यथा देहे कौमारं यौवनं\\n          ...   \n",
       "3  य एनं वेत्ति हन्तारं यश्चैनं मन्यते हतम्।उभौ त...   \n",
       "4  न जायते म्रियते वा कदाचिन्नायं भूत्वा भविता वा...   \n",
       "\n",
       "                                     Transliteration  \\\n",
       "0  jātasya hi dhruvo mṛtyurdhruvaṃ janma\\n       ...   \n",
       "1  śrīviṣṇuruvāca\\n        prārabdhaṃ bhujyamāno ...   \n",
       "2  dehino’sminyathā\\n        dehe kaumāraṃ yauvan...   \n",
       "3  ya enaṃ vetti\\n        hantāraṃ yaścainaṃ many...   \n",
       "4                                               None   \n",
       "\n",
       "                                   Hindi Translation  \\\n",
       "0  जन्मने वाले की मृत्यु निश्चित है और मरने\\n    ...   \n",
       "1  प्रारब्ध-कर्म को भोगता हुआ जो मनुष्य गीता\\n   ...   \n",
       "2  जैसे इस देह में देही जीवात्मा की कुमार,\\n     ...   \n",
       "3  जो आत्मा को\\n        मारने वाला समझता है और जो...   \n",
       "4                                               None   \n",
       "\n",
       "                                 English Translation  \n",
       "0  Death is certain for the born, and\\n        re...  \n",
       "1  One who indulges in ongoing\\n        action an...  \n",
       "2  Just as the\\n        boyhood, youth and old ag...  \n",
       "3  He who\\n        thinks that the soul kills, an...  \n",
       "4                                               None  "
      ]
     },
     "execution_count": 6,
     "metadata": {},
     "output_type": "execute_result"
    }
   ],
   "source": [
    "df.head()"
   ]
  },
  {
   "cell_type": "code",
   "execution_count": 7,
   "metadata": {},
   "outputs": [
    {
     "data": {
      "text/html": [
       "<div>\n",
       "<style scoped>\n",
       "    .dataframe tbody tr th:only-of-type {\n",
       "        vertical-align: middle;\n",
       "    }\n",
       "\n",
       "    .dataframe tbody tr th {\n",
       "        vertical-align: top;\n",
       "    }\n",
       "\n",
       "    .dataframe thead th {\n",
       "        text-align: right;\n",
       "    }\n",
       "</style>\n",
       "<table border=\"1\" class=\"dataframe\">\n",
       "  <thead>\n",
       "    <tr style=\"text-align: right;\">\n",
       "      <th></th>\n",
       "      <th>Shlok</th>\n",
       "      <th>Transliteration</th>\n",
       "      <th>Hindi Translation</th>\n",
       "      <th>English Translation</th>\n",
       "    </tr>\n",
       "  </thead>\n",
       "  <tbody>\n",
       "    <tr>\n",
       "      <th>55</th>\n",
       "      <td>श्रीभगवानुवाच - कालोऽस्मि लोकक्षयकृत्प्रवृद्धो...</td>\n",
       "      <td>śrībhagavānuvāca kālo'smi\\n        lokakṣayakṛ...</td>\n",
       "      <td>परम प्रभु ने कहा - “मैं प्रलय का मूलकारण\\n    ...</td>\n",
       "      <td>The Supreme Lord said: I am mighty Time,\\n    ...</td>\n",
       "    </tr>\n",
       "    <tr>\n",
       "      <th>56</th>\n",
       "      <td>सत्वं सुखे सञ्जयति रज: कर्मणि भारत।ज्ञानमावृत्...</td>\n",
       "      <td>satvaṃ sukhe sañjayati raja: karmaṇi\\n        ...</td>\n",
       "      <td>हे अर्जुन! सत्त्वगुण मनुष्य को सुख में\\n      ...</td>\n",
       "      <td>O scion of the Bharata dynasty, sattva\\n      ...</td>\n",
       "    </tr>\n",
       "    <tr>\n",
       "      <th>57</th>\n",
       "      <td>त्रिविधं नरकस्येदं द्वारं नाशनमात्मनः।कामः क्र...</td>\n",
       "      <td>satvaṃ sukhe sañjayati raja: karmaṇi\\n        ...</td>\n",
       "      <td>काम, क्रोध और लोभ, ये आत्मविनाश के नरक के\\n   ...</td>\n",
       "      <td>Lust, anger and greed, these are the\\n        ...</td>\n",
       "    </tr>\n",
       "    <tr>\n",
       "      <th>58</th>\n",
       "      <td>दातव्यमिति यद्दानं दीयतेऽनुपकारिणे।देशे काले च...</td>\n",
       "      <td>dātavyam iti yad dānaṁ dīyate\\n        nupakār...</td>\n",
       "      <td>दान देना ही कर्तव्य है इस भाव से जो दान\\n     ...</td>\n",
       "      <td>Charity given to a worthy person simply\\n     ...</td>\n",
       "    </tr>\n",
       "    <tr>\n",
       "      <th>59</th>\n",
       "      <td>न हि देहभृता शक्यं त्यक्तुं कर्माण्यशेषतः।यस्त...</td>\n",
       "      <td>na hi dehabhṛtā śakyaṃ tyaktuṃ\\n        karmāṇ...</td>\n",
       "      <td>एक देहधारी प्राणी सभी कर्मों को नहीं त्याग\\n  ...</td>\n",
       "      <td>An embodied being cannot renounce all\\n       ...</td>\n",
       "    </tr>\n",
       "  </tbody>\n",
       "</table>\n",
       "</div>"
      ],
      "text/plain": [
       "                                                Shlok  \\\n",
       "55  श्रीभगवानुवाच - कालोऽस्मि लोकक्षयकृत्प्रवृद्धो...   \n",
       "56  सत्वं सुखे सञ्जयति रज: कर्मणि भारत।ज्ञानमावृत्...   \n",
       "57  त्रिविधं नरकस्येदं द्वारं नाशनमात्मनः।कामः क्र...   \n",
       "58  दातव्यमिति यद्दानं दीयतेऽनुपकारिणे।देशे काले च...   \n",
       "59  न हि देहभृता शक्यं त्यक्तुं कर्माण्यशेषतः।यस्त...   \n",
       "\n",
       "                                      Transliteration  \\\n",
       "55  śrībhagavānuvāca kālo'smi\\n        lokakṣayakṛ...   \n",
       "56  satvaṃ sukhe sañjayati raja: karmaṇi\\n        ...   \n",
       "57  satvaṃ sukhe sañjayati raja: karmaṇi\\n        ...   \n",
       "58  dātavyam iti yad dānaṁ dīyate\\n        nupakār...   \n",
       "59  na hi dehabhṛtā śakyaṃ tyaktuṃ\\n        karmāṇ...   \n",
       "\n",
       "                                    Hindi Translation  \\\n",
       "55  परम प्रभु ने कहा - “मैं प्रलय का मूलकारण\\n    ...   \n",
       "56  हे अर्जुन! सत्त्वगुण मनुष्य को सुख में\\n      ...   \n",
       "57  काम, क्रोध और लोभ, ये आत्मविनाश के नरक के\\n   ...   \n",
       "58  दान देना ही कर्तव्य है इस भाव से जो दान\\n     ...   \n",
       "59  एक देहधारी प्राणी सभी कर्मों को नहीं त्याग\\n  ...   \n",
       "\n",
       "                                  English Translation  \n",
       "55  The Supreme Lord said: I am mighty Time,\\n    ...  \n",
       "56  O scion of the Bharata dynasty, sattva\\n      ...  \n",
       "57  Lust, anger and greed, these are the\\n        ...  \n",
       "58  Charity given to a worthy person simply\\n     ...  \n",
       "59  An embodied being cannot renounce all\\n       ...  "
      ]
     },
     "execution_count": 7,
     "metadata": {},
     "output_type": "execute_result"
    }
   ],
   "source": [
    "df.tail()"
   ]
  },
  {
   "cell_type": "code",
   "execution_count": 8,
   "metadata": {},
   "outputs": [
    {
     "data": {
      "text/plain": [
       "(60, 4)"
      ]
     },
     "execution_count": 8,
     "metadata": {},
     "output_type": "execute_result"
    }
   ],
   "source": [
    "df.shape"
   ]
  },
  {
   "cell_type": "code",
   "execution_count": 9,
   "metadata": {},
   "outputs": [
    {
     "data": {
      "text/plain": [
       "Shlok                  0\n",
       "Transliteration        2\n",
       "Hindi Translation      2\n",
       "English Translation    2\n",
       "dtype: int64"
      ]
     },
     "execution_count": 9,
     "metadata": {},
     "output_type": "execute_result"
    }
   ],
   "source": [
    "df.isnull().sum()"
   ]
  },
  {
   "cell_type": "code",
   "execution_count": null,
   "metadata": {},
   "outputs": [],
   "source": [
    "df.to_csv(\"Gita_Shloks.csv\")"
   ]
  }
 ],
 "metadata": {
  "kernelspec": {
   "display_name": "MachineLearning",
   "language": "python",
   "name": "python3"
  },
  "language_info": {
   "codemirror_mode": {
    "name": "ipython",
    "version": 3
   },
   "file_extension": ".py",
   "mimetype": "text/x-python",
   "name": "python",
   "nbconvert_exporter": "python",
   "pygments_lexer": "ipython3",
   "version": "3.11.4"
  }
 },
 "nbformat": 4,
 "nbformat_minor": 2
}
