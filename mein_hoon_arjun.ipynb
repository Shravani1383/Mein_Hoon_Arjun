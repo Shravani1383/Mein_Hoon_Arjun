{
 "cells": [
  {
   "cell_type": "markdown",
   "metadata": {},
   "source": [
    "## Mein Hoon Arjun"
   ]
  },
  {
   "cell_type": "code",
   "execution_count": 1,
   "metadata": {},
   "outputs": [],
   "source": [
    "import numpy as np\n",
    "import pandas as pd"
   ]
  },
  {
   "cell_type": "code",
   "execution_count": 2,
   "metadata": {},
   "outputs": [],
   "source": [
    "df=pd.read_csv(\"Gita_Shloks.csv\")"
   ]
  },
  {
   "cell_type": "code",
   "execution_count": 3,
   "metadata": {},
   "outputs": [
    {
     "data": {
      "text/html": [
       "<div>\n",
       "<style scoped>\n",
       "    .dataframe tbody tr th:only-of-type {\n",
       "        vertical-align: middle;\n",
       "    }\n",
       "\n",
       "    .dataframe tbody tr th {\n",
       "        vertical-align: top;\n",
       "    }\n",
       "\n",
       "    .dataframe thead th {\n",
       "        text-align: right;\n",
       "    }\n",
       "</style>\n",
       "<table border=\"1\" class=\"dataframe\">\n",
       "  <thead>\n",
       "    <tr style=\"text-align: right;\">\n",
       "      <th></th>\n",
       "      <th>Unnamed: 0</th>\n",
       "      <th>Shlok</th>\n",
       "      <th>Transliteration</th>\n",
       "      <th>Hindi Translation</th>\n",
       "      <th>English Translation</th>\n",
       "    </tr>\n",
       "  </thead>\n",
       "  <tbody>\n",
       "    <tr>\n",
       "      <th>0</th>\n",
       "      <td>0</td>\n",
       "      <td>जातस्य हि ध्रुवो मृत्युर्ध्रुवं जन्म मृतस्य च।...</td>\n",
       "      <td>jātasya hi dhruvo mṛtyurdhruvaṃ janma\\n       ...</td>\n",
       "      <td>जन्मने वाले की मृत्यु निश्चित है और मरने\\n    ...</td>\n",
       "      <td>Death is certain for the born, and\\n        re...</td>\n",
       "    </tr>\n",
       "    <tr>\n",
       "      <th>1</th>\n",
       "      <td>1</td>\n",
       "      <td>प्रारब्धं भुज्यमानो हि गीताभ्यासरतः सदा।  स मु...</td>\n",
       "      <td>śrīviṣṇuruvāca\\n        prārabdhaṃ bhujyamāno ...</td>\n",
       "      <td>प्रारब्ध-कर्म को भोगता हुआ जो मनुष्य गीता\\n   ...</td>\n",
       "      <td>One who indulges in ongoing\\n        action an...</td>\n",
       "    </tr>\n",
       "    <tr>\n",
       "      <th>2</th>\n",
       "      <td>2</td>\n",
       "      <td>देहिनोऽस्मिन्यथा देहे कौमारं यौवनं\\n          ...</td>\n",
       "      <td>dehino’sminyathā\\n        dehe kaumāraṃ yauvan...</td>\n",
       "      <td>जैसे इस देह में देही जीवात्मा की कुमार,\\n     ...</td>\n",
       "      <td>Just as the\\n        boyhood, youth and old ag...</td>\n",
       "    </tr>\n",
       "    <tr>\n",
       "      <th>3</th>\n",
       "      <td>3</td>\n",
       "      <td>य एनं वेत्ति हन्तारं यश्चैनं मन्यते हतम्।उभौ त...</td>\n",
       "      <td>ya enaṃ vetti\\n        hantāraṃ yaścainaṃ many...</td>\n",
       "      <td>जो आत्मा को\\n        मारने वाला समझता है और जो...</td>\n",
       "      <td>He who\\n        thinks that the soul kills, an...</td>\n",
       "    </tr>\n",
       "    <tr>\n",
       "      <th>4</th>\n",
       "      <td>4</td>\n",
       "      <td>न जायते म्रियते वा कदाचिन्नायं भूत्वा भविता वा...</td>\n",
       "      <td>na jāyate mriyate vā kadācin\\nnāyaṃ bhūtvā bha...</td>\n",
       "      <td>आत्मा किसी काल में भी न जन्मता है और न मरता है...</td>\n",
       "      <td>The soul is never born, it never dies having c...</td>\n",
       "    </tr>\n",
       "  </tbody>\n",
       "</table>\n",
       "</div>"
      ],
      "text/plain": [
       "   Unnamed: 0                                              Shlok  \\\n",
       "0           0  जातस्य हि ध्रुवो मृत्युर्ध्रुवं जन्म मृतस्य च।...   \n",
       "1           1  प्रारब्धं भुज्यमानो हि गीताभ्यासरतः सदा।  स मु...   \n",
       "2           2  देहिनोऽस्मिन्यथा देहे कौमारं यौवनं\\n          ...   \n",
       "3           3  य एनं वेत्ति हन्तारं यश्चैनं मन्यते हतम्।उभौ त...   \n",
       "4           4  न जायते म्रियते वा कदाचिन्नायं भूत्वा भविता वा...   \n",
       "\n",
       "                                     Transliteration  \\\n",
       "0  jātasya hi dhruvo mṛtyurdhruvaṃ janma\\n       ...   \n",
       "1  śrīviṣṇuruvāca\\n        prārabdhaṃ bhujyamāno ...   \n",
       "2  dehino’sminyathā\\n        dehe kaumāraṃ yauvan...   \n",
       "3  ya enaṃ vetti\\n        hantāraṃ yaścainaṃ many...   \n",
       "4  na jāyate mriyate vā kadācin\\nnāyaṃ bhūtvā bha...   \n",
       "\n",
       "                                   Hindi Translation  \\\n",
       "0  जन्मने वाले की मृत्यु निश्चित है और मरने\\n    ...   \n",
       "1  प्रारब्ध-कर्म को भोगता हुआ जो मनुष्य गीता\\n   ...   \n",
       "2  जैसे इस देह में देही जीवात्मा की कुमार,\\n     ...   \n",
       "3  जो आत्मा को\\n        मारने वाला समझता है और जो...   \n",
       "4  आत्मा किसी काल में भी न जन्मता है और न मरता है...   \n",
       "\n",
       "                                 English Translation  \n",
       "0  Death is certain for the born, and\\n        re...  \n",
       "1  One who indulges in ongoing\\n        action an...  \n",
       "2  Just as the\\n        boyhood, youth and old ag...  \n",
       "3  He who\\n        thinks that the soul kills, an...  \n",
       "4  The soul is never born, it never dies having c...  "
      ]
     },
     "execution_count": 3,
     "metadata": {},
     "output_type": "execute_result"
    }
   ],
   "source": [
    "df.head()"
   ]
  },
  {
   "cell_type": "code",
   "execution_count": 4,
   "metadata": {},
   "outputs": [],
   "source": [
    "df.drop(columns=['Unnamed: 0'], inplace=True)"
   ]
  },
  {
   "cell_type": "code",
   "execution_count": 5,
   "metadata": {},
   "outputs": [
    {
     "data": {
      "text/html": [
       "<div>\n",
       "<style scoped>\n",
       "    .dataframe tbody tr th:only-of-type {\n",
       "        vertical-align: middle;\n",
       "    }\n",
       "\n",
       "    .dataframe tbody tr th {\n",
       "        vertical-align: top;\n",
       "    }\n",
       "\n",
       "    .dataframe thead th {\n",
       "        text-align: right;\n",
       "    }\n",
       "</style>\n",
       "<table border=\"1\" class=\"dataframe\">\n",
       "  <thead>\n",
       "    <tr style=\"text-align: right;\">\n",
       "      <th></th>\n",
       "      <th>Shlok</th>\n",
       "      <th>Transliteration</th>\n",
       "      <th>Hindi Translation</th>\n",
       "      <th>English Translation</th>\n",
       "    </tr>\n",
       "  </thead>\n",
       "  <tbody>\n",
       "    <tr>\n",
       "      <th>0</th>\n",
       "      <td>जातस्य हि ध्रुवो मृत्युर्ध्रुवं जन्म मृतस्य च।...</td>\n",
       "      <td>jātasya hi dhruvo mṛtyurdhruvaṃ janma\\n       ...</td>\n",
       "      <td>जन्मने वाले की मृत्यु निश्चित है और मरने\\n    ...</td>\n",
       "      <td>Death is certain for the born, and\\n        re...</td>\n",
       "    </tr>\n",
       "    <tr>\n",
       "      <th>1</th>\n",
       "      <td>प्रारब्धं भुज्यमानो हि गीताभ्यासरतः सदा।  स मु...</td>\n",
       "      <td>śrīviṣṇuruvāca\\n        prārabdhaṃ bhujyamāno ...</td>\n",
       "      <td>प्रारब्ध-कर्म को भोगता हुआ जो मनुष्य गीता\\n   ...</td>\n",
       "      <td>One who indulges in ongoing\\n        action an...</td>\n",
       "    </tr>\n",
       "    <tr>\n",
       "      <th>2</th>\n",
       "      <td>देहिनोऽस्मिन्यथा देहे कौमारं यौवनं\\n          ...</td>\n",
       "      <td>dehino’sminyathā\\n        dehe kaumāraṃ yauvan...</td>\n",
       "      <td>जैसे इस देह में देही जीवात्मा की कुमार,\\n     ...</td>\n",
       "      <td>Just as the\\n        boyhood, youth and old ag...</td>\n",
       "    </tr>\n",
       "    <tr>\n",
       "      <th>3</th>\n",
       "      <td>य एनं वेत्ति हन्तारं यश्चैनं मन्यते हतम्।उभौ त...</td>\n",
       "      <td>ya enaṃ vetti\\n        hantāraṃ yaścainaṃ many...</td>\n",
       "      <td>जो आत्मा को\\n        मारने वाला समझता है और जो...</td>\n",
       "      <td>He who\\n        thinks that the soul kills, an...</td>\n",
       "    </tr>\n",
       "    <tr>\n",
       "      <th>4</th>\n",
       "      <td>न जायते म्रियते वा कदाचिन्नायं भूत्वा भविता वा...</td>\n",
       "      <td>na jāyate mriyate vā kadācin\\nnāyaṃ bhūtvā bha...</td>\n",
       "      <td>आत्मा किसी काल में भी न जन्मता है और न मरता है...</td>\n",
       "      <td>The soul is never born, it never dies having c...</td>\n",
       "    </tr>\n",
       "  </tbody>\n",
       "</table>\n",
       "</div>"
      ],
      "text/plain": [
       "                                               Shlok  \\\n",
       "0  जातस्य हि ध्रुवो मृत्युर्ध्रुवं जन्म मृतस्य च।...   \n",
       "1  प्रारब्धं भुज्यमानो हि गीताभ्यासरतः सदा।  स मु...   \n",
       "2  देहिनोऽस्मिन्यथा देहे कौमारं यौवनं\\n          ...   \n",
       "3  य एनं वेत्ति हन्तारं यश्चैनं मन्यते हतम्।उभौ त...   \n",
       "4  न जायते म्रियते वा कदाचिन्नायं भूत्वा भविता वा...   \n",
       "\n",
       "                                     Transliteration  \\\n",
       "0  jātasya hi dhruvo mṛtyurdhruvaṃ janma\\n       ...   \n",
       "1  śrīviṣṇuruvāca\\n        prārabdhaṃ bhujyamāno ...   \n",
       "2  dehino’sminyathā\\n        dehe kaumāraṃ yauvan...   \n",
       "3  ya enaṃ vetti\\n        hantāraṃ yaścainaṃ many...   \n",
       "4  na jāyate mriyate vā kadācin\\nnāyaṃ bhūtvā bha...   \n",
       "\n",
       "                                   Hindi Translation  \\\n",
       "0  जन्मने वाले की मृत्यु निश्चित है और मरने\\n    ...   \n",
       "1  प्रारब्ध-कर्म को भोगता हुआ जो मनुष्य गीता\\n   ...   \n",
       "2  जैसे इस देह में देही जीवात्मा की कुमार,\\n     ...   \n",
       "3  जो आत्मा को\\n        मारने वाला समझता है और जो...   \n",
       "4  आत्मा किसी काल में भी न जन्मता है और न मरता है...   \n",
       "\n",
       "                                 English Translation  \n",
       "0  Death is certain for the born, and\\n        re...  \n",
       "1  One who indulges in ongoing\\n        action an...  \n",
       "2  Just as the\\n        boyhood, youth and old ag...  \n",
       "3  He who\\n        thinks that the soul kills, an...  \n",
       "4  The soul is never born, it never dies having c...  "
      ]
     },
     "execution_count": 5,
     "metadata": {},
     "output_type": "execute_result"
    }
   ],
   "source": [
    "df.head()"
   ]
  },
  {
   "cell_type": "code",
   "execution_count": 6,
   "metadata": {},
   "outputs": [
    {
     "data": {
      "text/plain": [
       "Shlok                  0\n",
       "Transliteration        0\n",
       "Hindi Translation      0\n",
       "English Translation    0\n",
       "dtype: int64"
      ]
     },
     "execution_count": 6,
     "metadata": {},
     "output_type": "execute_result"
    }
   ],
   "source": [
    "df.isnull().sum()"
   ]
  },
  {
   "cell_type": "code",
   "execution_count": 7,
   "metadata": {},
   "outputs": [],
   "source": [
    "# Sentiment analysis"
   ]
  },
  {
   "cell_type": "code",
   "execution_count": 28,
   "metadata": {},
   "outputs": [],
   "source": [
    "from openai import OpenAI\n",
    "API_KEY = \"Your_API_Key\"\n",
    "client = OpenAI(api_key=API_KEY)\n",
    "\n",
    "\n",
    "def Recommend_Shlok(incident):\n",
    "    # Define the GPT-3.5 prompt\n",
    "    prompt = f\"Based on the {incident} provided, recommend only one {df['Shlok']} (Sanskrit verse), {df['Transliteration']}, {df['Hindi Translation']}, and {df['English Translation']} that similarly describe your incident, are related to the incident, or offer a solution to the incident.Also at last exlain how these shloks are relevant to incident. The format should be sanskrit shlok, english translation, hindi translations and how is that relevant to the incident.\"\n",
    "\n",
    "    # Generate the completion using the modified user message\n",
    "    chat_completion = client.chat.completions.create(\n",
    "        model=\"gpt-3.5-turbo\",\n",
    "        messages=[\n",
    "            {\n",
    "                \"role\": \"user\",\n",
    "                \"content\": prompt,\n",
    "            }\n",
    "        ],\n",
    "    )\n",
    "\n",
    "    # Get the completion text\n",
    "    completion_text = chat_completion.choices[0].message.content\n",
    "\n",
    "    return completion_text"
   ]
  },
  {
   "cell_type": "code",
   "execution_count": 29,
   "metadata": {},
   "outputs": [
    {
     "data": {
      "text/plain": [
       "\"1. **Sanskrit Shlok**: जन्मने वाले की मृत्यु निश्चित है और मरने\\\\n        वाले का जन्म निश्चित है, इसलिए तू संकल्प कर\\\\n        कर्म कर। (Death is certain for the born, and\\\\n        rebirth is certain for the dead; therefore\\\\n        you should perform your duties.)\\n\\n   **English Translation**: Death is certain for the born, and\\\\n        rebirth is certain for the dead; therefore\\\\n        you should perform your duties.\\n\\n   **Hindi Translation**: जन्मने वाले की मृत्यु निश्चित है और\\\\n        मरने वाले का जन्म निश्चित है, इसलिए तू\\\\n        संकल्प कर कर्म कर।\\n\\n   **Relevance to Incident**: This shloka emphasizes the importance of fulfilling one's duties regardless of the circumstances. In the context of receiving a promotion and crying tears of joy, it serves as a reminder to continue working diligently and fulfill the responsibilities that come with the new role.\\n\\n2. **Sanskrit Shlok**: योगिनामपि सर्वेषां मद्ग\\u200dतेनान्तरात्मना। श्रद्धावान्भजते यो मां स मे युक्ततमो मत:।। (And of all yogīs, the one with great faith\\\\n        who always abides in Me, thinks of Me within\\\\n        himself, he is considered to be the most\\\\n        perfect.)\\n\\n   **English Translation**: And of all yogīs, the one with great faith who always abides in Me, thinks of Me within himself, he is considered to be the most perfect.\\n\\n   **Hindi Translation**: सभी योगियों में उसको सबसे उत्कृष्ट\\\\n        मानना चाहिए जिसका श्रद्धापूर्ण है और\\\\n        जो हमेशा मुझमें बसता है, सोचता है और मुझको\\\\n        अपने अन्दर धारण करता है।\\n\\n   **Relevance to Incident**: This shloka highlights the importance of faith and devotion in achieving perfection. In the context of facing a positive change like a promotion, it encourages maintaining faith in oneself and dedicating one's efforts to the task at hand with devotion and perseverance.\""
      ]
     },
     "execution_count": 29,
     "metadata": {},
     "output_type": "execute_result"
    }
   ],
   "source": [
    "incident=\"After receiving the promotion, she cried tears of joy.\"\n",
    "Recommend_Shlok(incident)"
   ]
  }
 ],
 "metadata": {
  "kernelspec": {
   "display_name": "MachineLearning",
   "language": "python",
   "name": "python3"
  },
  "language_info": {
   "codemirror_mode": {
    "name": "ipython",
    "version": 3
   },
   "file_extension": ".py",
   "mimetype": "text/x-python",
   "name": "python",
   "nbconvert_exporter": "python",
   "pygments_lexer": "ipython3",
   "version": "3.11.4"
  }
 },
 "nbformat": 4,
 "nbformat_minor": 2
}
